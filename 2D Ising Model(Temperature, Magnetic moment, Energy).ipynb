{
 "cells": [
  {
   "cell_type": "code",
   "execution_count": 52,
   "id": "e6ba930b",
   "metadata": {
    "ExecuteTime": {
     "end_time": "2023-01-30T22:35:26.284613Z",
     "start_time": "2023-01-30T22:35:26.281843Z"
    }
   },
   "outputs": [],
   "source": [
    "import random\n",
    "import matplotlib.pyplot as plt\n",
    "import numpy as np\n",
    "import copy\n",
    "import math\n",
    "import time"
   ]
  },
  {
   "cell_type": "code",
   "execution_count": 53,
   "id": "81516d7f",
   "metadata": {
    "ExecuteTime": {
     "end_time": "2023-01-30T22:35:26.531219Z",
     "start_time": "2023-01-30T22:35:26.506647Z"
    }
   },
   "outputs": [],
   "source": [
    "def main():\n",
    "    size = 30  # the size of the system\n",
    "    for T in np.linspace(0.02, 5, 20):\n",
    "        ising, magnetism = get_one_sample(sizeOfSample=size, temperature=T)\n",
    "        print( \"Temperature=\",T,\"   Magnetic moment=\", magnetism,\"   Total energy=\",calculateAllEnergy(ising))\n",
    "        print(\"\\n\")\n",
    "        #plt.plot(T, magnetism, 'o')\n",
    "        plt.plot(T, calculateAllEnergy(ising), 'o')\n",
    "    plt.show()\n",
    "    \n",
    "def get_one_sample(sizeOfSample, temperature):\n",
    "    newS = np.zeros((sizeOfSample, sizeOfSample))  # initialization\n",
    "    magnetism = 0\n",
    "    for i00 in range(100):\n",
    "        newS = Metropolis(newS, temperature)\n",
    "        magnetism = magnetism + abs(sum(sum(np.cos(newS))))/newS.shape[0]**2\n",
    "    magnetism = magnetism/100\n",
    "    return newS, magnetism\n",
    "\n",
    "def Metropolis(S, T):  # S is the initial state, T is the temperature\n",
    "    k = 1  # Boltzmann's constant\n",
    "    for i in range(S.shape[0]):\n",
    "        for j in range(S.shape[0]):\n",
    "            newAngle = np.random.randint(-1, 1)*np.pi\n",
    "            energyBefore = getEnergy(i=i, j=j, S=S, angle=None)  # find the energy in this lattice\n",
    "            energyLater = getEnergy(i=i, j=j, S=S, angle=newAngle)  # find the energy in this lattice after changing to a new angle\n",
    "            alpha = min(1.0, math.exp(-(energyLater - energyBefore)/(k * T)))  # accept rate(Boltzmann distribution)\n",
    "            if random.uniform(0, 1) <= alpha:\n",
    "                S[i, j] = newAngle   # accept the new state\n",
    "            else:\n",
    "                pass  # keep the last state\n",
    "    return S\n",
    "\n",
    "def getEnergy(i, j, S, angle=None):  # calculate the energy in the position(i,j), it's the summation of interaction energy of the near 4 points \n",
    "    width = S.shape[0]\n",
    "    height = S.shape[1]\n",
    "    top_i = i - 1 if i > 0 else width - 1  # periodic boundary conditions\n",
    "    bottom_i = i + 1 if i < (width - 1) else 0\n",
    "    left_j = j - 1 if j > 0 else height - 1\n",
    "    right_j = j + 1 if j < (height - 1) else 0\n",
    "    environment = [[top_i, j], [bottom_i, j], [i, left_j], [i, right_j]]\n",
    "    energy = 0\n",
    "    if angle == None:\n",
    "        for num_i in range(4):\n",
    "            energy += -np.cos(S[i, j] - S[environment[num_i][0], environment[num_i][1]])\n",
    "    else:\n",
    "        for num_i in range(4):\n",
    "            energy += -np.cos(angle - S[environment[num_i][0], environment[num_i][1]])\n",
    "    return energy\n"
   ]
  },
  {
   "cell_type": "code",
   "execution_count": 54,
   "id": "f2a1d452",
   "metadata": {
    "ExecuteTime": {
     "end_time": "2023-01-30T22:35:26.756657Z",
     "start_time": "2023-01-30T22:35:26.752501Z"
    }
   },
   "outputs": [],
   "source": [
    "def calculateAllEnergy(S):  # calculate the total energy of the whole system\n",
    "    energy = 0\n",
    "    for i in range(S.shape[0]):\n",
    "        for j in range(S.shape[1]):\n",
    "            energy += getEnergy(i, j, S)\n",
    "    return energy/2  # repeat twice, so divided by 2"
   ]
  },
  {
   "cell_type": "code",
   "execution_count": 55,
   "id": "db551286",
   "metadata": {
    "ExecuteTime": {
     "end_time": "2023-01-30T22:36:01.274036Z",
     "start_time": "2023-01-30T22:35:27.095736Z"
    }
   },
   "outputs": [
    {
     "name": "stdout",
     "output_type": "stream",
     "text": [
      "Temperature= 0.02    Magnetic moment= 1.0    Total energy= -1800.0\n",
      "\n",
      "\n",
      "Temperature= 0.2821052631578948    Magnetic moment= 1.0    Total energy= -1800.0\n",
      "\n",
      "\n",
      "Temperature= 0.5442105263157896    Magnetic moment= 1.0    Total energy= -1800.0\n",
      "\n",
      "\n",
      "Temperature= 0.8063157894736843    Magnetic moment= 0.9999111111111111    Total energy= -1800.0\n",
      "\n",
      "\n",
      "Temperature= 1.0684210526315792    Magnetic moment= 0.9990666666666675    Total energy= -1800.0\n",
      "\n",
      "\n",
      "Temperature= 1.330526315789474    Magnetic moment= 0.994133333333334    Total energy= -1792.0\n",
      "\n",
      "\n",
      "Temperature= 1.5926315789473686    Magnetic moment= 0.9812888888888885    Total energy= -1784.0\n",
      "\n",
      "\n",
      "Temperature= 1.8547368421052635    Magnetic moment= 0.9541999999999998    Total energy= -1568.0\n",
      "\n",
      "\n",
      "Temperature= 2.1168421052631583    Magnetic moment= 0.8981999999999998    Total energy= -1476.0\n",
      "\n",
      "\n",
      "Temperature= 2.378947368421053    Magnetic moment= 0.7028888888888887    Total energy= -1068.0\n",
      "\n",
      "\n",
      "Temperature= 2.641052631578948    Magnetic moment= 0.3487111111111112    Total energy= -932.0\n",
      "\n",
      "\n",
      "Temperature= 2.9031578947368426    Magnetic moment= 0.18975555555555562    Total energy= -784.0\n",
      "\n",
      "\n",
      "Temperature= 3.1652631578947372    Magnetic moment= 0.12288888888888883    Total energy= -664.0\n",
      "\n",
      "\n",
      "Temperature= 3.4273684210526323    Magnetic moment= 0.12193333333333327    Total energy= -644.0\n",
      "\n",
      "\n",
      "Temperature= 3.689473684210527    Magnetic moment= 0.1127555555555556    Total energy= -552.0\n",
      "\n",
      "\n",
      "Temperature= 3.951578947368422    Magnetic moment= 0.08035555555555556    Total energy= -576.0\n",
      "\n",
      "\n",
      "Temperature= 4.213684210526316    Magnetic moment= 0.06653333333333333    Total energy= -516.0\n",
      "\n",
      "\n",
      "Temperature= 4.475789473684211    Magnetic moment= 0.0735111111111111    Total energy= -444.0\n",
      "\n",
      "\n",
      "Temperature= 4.737894736842105    Magnetic moment= 0.06646666666666667    Total energy= -412.0\n",
      "\n",
      "\n",
      "Temperature= 5.0    Magnetic moment= 0.0718    Total energy= -368.0\n",
      "\n",
      "\n"
     ]
    },
    {
     "data": {
      "image/png": "[encoded data removed]",
      "text/plain": [
       "<Figure size 432x288 with 1 Axes>"
      ]
     },
     "metadata": {
      "needs_background": "light"
     },
     "output_type": "display_data"
    }
   ],
   "source": [
    "if __name__ == '__main__':\n",
    "    main()"
   ]
  },
  {
   "cell_type": "code",
   "execution_count": null,
   "id": "6dcd7567",
   "metadata": {},
   "outputs": [],
   "source": []
  }
 ],
 "metadata": {
  "kernelspec": {
   "display_name": "Python 3 (ipykernel)",
   "language": "python",
   "name": "python3"
  },
  "language_info": {
   "codemirror_mode": {
    "name": "ipython",
    "version": 3
   },
   "file_extension": ".py",
   "mimetype": "text/x-python",
   "name": "python",
   "nbconvert_exporter": "python",
   "pygments_lexer": "ipython3",
   "version": "3.9.7"
  }
 },
 "nbformat": 4,
 "nbformat_minor": 5
}
